{
 "cells": [
  {
   "cell_type": "code",
   "execution_count": 1,
   "id": "80cba4c2",
   "metadata": {},
   "outputs": [],
   "source": [
    "import pandas as pd\n",
    "import pandas as pd\n",
    "pd.set_option('display.max_columns', None)"
   ]
  },
  {
   "cell_type": "code",
   "execution_count": 2,
   "id": "fe9d8bb0",
   "metadata": {},
   "outputs": [
    {
     "data": {
      "text/plain": [
       "'d:\\\\PROJECTS\\\\Sym2Disease Project\\\\research'"
      ]
     },
     "execution_count": 2,
     "metadata": {},
     "output_type": "execute_result"
    }
   ],
   "source": [
    "%pwd"
   ]
  },
  {
   "cell_type": "code",
   "execution_count": 3,
   "id": "e40bbe2a",
   "metadata": {},
   "outputs": [],
   "source": [
    "import os\n",
    "os.chdir(\"..\")"
   ]
  },
  {
   "cell_type": "code",
   "execution_count": 4,
   "id": "c38d406b",
   "metadata": {},
   "outputs": [
    {
     "data": {
      "text/plain": [
       "'d:\\\\PROJECTS\\\\Sym2Disease Project'"
      ]
     },
     "execution_count": 4,
     "metadata": {},
     "output_type": "execute_result"
    }
   ],
   "source": [
    "%pwd"
   ]
  },
  {
   "cell_type": "code",
   "execution_count": 5,
   "id": "f2fc18e6",
   "metadata": {},
   "outputs": [],
   "source": [
    "dis_df = pd.read_csv('data\\disease_prediction_dataset\\Training.csv')\n",
    "med_df1 = pd.read_csv('data\\med_dataset\\disease2med.csv')\n"
   ]
  },
  {
   "cell_type": "code",
   "execution_count": 6,
   "id": "3ee2b829",
   "metadata": {},
   "outputs": [
    {
     "data": {
      "text/plain": [
       "array(['Fungal infection', 'Allergy', 'GERD', 'Chronic cholestasis',\n",
       "       'Drug Reaction', 'Peptic ulcer diseae', 'AIDS', 'Diabetes ',\n",
       "       'Gastroenteritis', 'Bronchial Asthma', 'Hypertension ', 'Migraine',\n",
       "       'Cervical spondylosis', 'Paralysis (brain hemorrhage)', 'Jaundice',\n",
       "       'Malaria', 'Chicken pox', 'Dengue', 'Typhoid', 'hepatitis A',\n",
       "       'Hepatitis B', 'Hepatitis C', 'Hepatitis D', 'Hepatitis E',\n",
       "       'Alcoholic hepatitis', 'Tuberculosis', 'Common Cold', 'Pneumonia',\n",
       "       'Dimorphic hemmorhoids(piles)', 'Heart attack', 'Varicose veins',\n",
       "       'Hypothyroidism', 'Hyperthyroidism', 'Hypoglycemia',\n",
       "       'Osteoarthristis', 'Arthritis',\n",
       "       '(vertigo) Paroymsal  Positional Vertigo', 'Acne',\n",
       "       'Urinary tract infection', 'Psoriasis', 'Impetigo'], dtype=object)"
      ]
     },
     "execution_count": 6,
     "metadata": {},
     "output_type": "execute_result"
    }
   ],
   "source": [
    "dis_df['prognosis'].unique()"
   ]
  },
  {
   "cell_type": "code",
   "execution_count": 7,
   "metadata": {},
   "outputs": [
    {
     "name": "stdout",
     "output_type": "stream",
     "text": [
      "['Fungal infection' 'Allergy' 'GERD' 'AIDS' 'Diabetes ' 'Hypertension '\n",
      " 'Migraine' 'Malaria' 'Alcoholic hepatitis' 'Dimorphic hemmorhoids(piles)'\n",
      " 'Varicose veins' 'Hypothyroidism' 'Hyperthyroidism' 'Osteoarthristis'\n",
      " 'Arthritis' '(vertigo) Paroymsal  Positional Vertigo' 'Acne'\n",
      " 'Urinary tract infection' 'Psoriasis']\n",
      "['Fungal Infections' 'Allergies' 'Liver Disease' 'Amoebiasis' 'Diabetes'\n",
      " 'Hypertension' 'Migraine' 'Malarial' 'Arthritis' 'Haemorrhoid'\n",
      " 'Varicose Veins' 'Hypothyroidism' 'Hyperthyroidism' 'Vertigo' 'Acne'\n",
      " 'Uti Infections' 'Psoriasis']\n"
     ]
    }
   ],
   "source": [
    "print(med_df1['prognosis'].unique())\n",
    "print(med_df1['disease_name'].unique())"
   ]
  },
  {
   "cell_type": "code",
   "execution_count": 8,
   "metadata": {},
   "outputs": [
    {
     "data": {
      "text/plain": [
       "19"
      ]
     },
     "execution_count": 8,
     "metadata": {},
     "output_type": "execute_result"
    }
   ],
   "source": [
    "med_df1['prognosis'].unique().__len__()"
   ]
  },
  {
   "cell_type": "code",
   "execution_count": 9,
   "metadata": {},
   "outputs": [
    {
     "data": {
      "text/html": [
       "<div>\n",
       "<style scoped>\n",
       "    .dataframe tbody tr th:only-of-type {\n",
       "        vertical-align: middle;\n",
       "    }\n",
       "\n",
       "    .dataframe tbody tr th {\n",
       "        vertical-align: top;\n",
       "    }\n",
       "\n",
       "    .dataframe thead th {\n",
       "        text-align: right;\n",
       "    }\n",
       "</style>\n",
       "<table border=\"1\" class=\"dataframe\">\n",
       "  <thead>\n",
       "    <tr style=\"text-align: right;\">\n",
       "      <th></th>\n",
       "      <th>prognosis</th>\n",
       "      <th>Unnamed: 0</th>\n",
       "      <th>disease_name</th>\n",
       "      <th>disease_url</th>\n",
       "      <th>med_name</th>\n",
       "      <th>medicine</th>\n",
       "    </tr>\n",
       "  </thead>\n",
       "  <tbody>\n",
       "    <tr>\n",
       "      <th>0</th>\n",
       "      <td>Fungal infection</td>\n",
       "      <td>0.0</td>\n",
       "      <td>Fungal Infections</td>\n",
       "      <td>https://www.netmeds.com/prescriptions/fungal-i...</td>\n",
       "      <td>2AZOLE Cream 20gm</td>\n",
       "      <td>None</td>\n",
       "    </tr>\n",
       "    <tr>\n",
       "      <th>1</th>\n",
       "      <td>Fungal infection</td>\n",
       "      <td>1.0</td>\n",
       "      <td>Fungal Infections</td>\n",
       "      <td>https://www.netmeds.com/prescriptions/fungal-i...</td>\n",
       "      <td>2AZOLE Lotion 30ml</td>\n",
       "      <td>None</td>\n",
       "    </tr>\n",
       "    <tr>\n",
       "      <th>2</th>\n",
       "      <td>Fungal infection</td>\n",
       "      <td>2.0</td>\n",
       "      <td>Fungal Infections</td>\n",
       "      <td>https://www.netmeds.com/prescriptions/fungal-i...</td>\n",
       "      <td>8X Cream 30gm</td>\n",
       "      <td>None</td>\n",
       "    </tr>\n",
       "    <tr>\n",
       "      <th>3</th>\n",
       "      <td>Fungal infection</td>\n",
       "      <td>3.0</td>\n",
       "      <td>Fungal Infections</td>\n",
       "      <td>https://www.netmeds.com/prescriptions/fungal-i...</td>\n",
       "      <td>ABZORB ANTIFUNGAL Soap 100gm</td>\n",
       "      <td>None</td>\n",
       "    </tr>\n",
       "    <tr>\n",
       "      <th>4</th>\n",
       "      <td>Fungal infection</td>\n",
       "      <td>4.0</td>\n",
       "      <td>Fungal Infections</td>\n",
       "      <td>https://www.netmeds.com/prescriptions/fungal-i...</td>\n",
       "      <td>AF 150mg Tablet 1'S</td>\n",
       "      <td>None</td>\n",
       "    </tr>\n",
       "    <tr>\n",
       "      <th>...</th>\n",
       "      <td>...</td>\n",
       "      <td>...</td>\n",
       "      <td>...</td>\n",
       "      <td>...</td>\n",
       "      <td>...</td>\n",
       "      <td>...</td>\n",
       "    </tr>\n",
       "    <tr>\n",
       "      <th>5098</th>\n",
       "      <td>Psoriasis</td>\n",
       "      <td>5077.0</td>\n",
       "      <td>Psoriasis</td>\n",
       "      <td>https://www.netmeds.com/prescriptions/psoriasis</td>\n",
       "      <td>TARSHINE Soap 75gm</td>\n",
       "      <td>None</td>\n",
       "    </tr>\n",
       "    <tr>\n",
       "      <th>5099</th>\n",
       "      <td>Psoriasis</td>\n",
       "      <td>5078.0</td>\n",
       "      <td>Psoriasis</td>\n",
       "      <td>https://www.netmeds.com/prescriptions/psoriasis</td>\n",
       "      <td>TRUSTRETIN 10 Capsule 10's</td>\n",
       "      <td>None</td>\n",
       "    </tr>\n",
       "    <tr>\n",
       "      <th>5100</th>\n",
       "      <td>Psoriasis</td>\n",
       "      <td>5079.0</td>\n",
       "      <td>Psoriasis</td>\n",
       "      <td>https://www.netmeds.com/prescriptions/psoriasis</td>\n",
       "      <td>TRUSTRETIN 25 Capsule 10's</td>\n",
       "      <td>None</td>\n",
       "    </tr>\n",
       "    <tr>\n",
       "      <th>5101</th>\n",
       "      <td>Psoriasis</td>\n",
       "      <td>5080.0</td>\n",
       "      <td>Psoriasis</td>\n",
       "      <td>https://www.netmeds.com/prescriptions/psoriasis</td>\n",
       "      <td>XALIDERM Solution 50ml</td>\n",
       "      <td>None</td>\n",
       "    </tr>\n",
       "    <tr>\n",
       "      <th>5102</th>\n",
       "      <td>Impetigo</td>\n",
       "      <td>NaN</td>\n",
       "      <td>NaN</td>\n",
       "      <td>NaN</td>\n",
       "      <td>NaN</td>\n",
       "      <td>None</td>\n",
       "    </tr>\n",
       "  </tbody>\n",
       "</table>\n",
       "<p>5103 rows × 6 columns</p>\n",
       "</div>"
      ],
      "text/plain": [
       "             prognosis  Unnamed: 0       disease_name  \\\n",
       "0     Fungal infection         0.0  Fungal Infections   \n",
       "1     Fungal infection         1.0  Fungal Infections   \n",
       "2     Fungal infection         2.0  Fungal Infections   \n",
       "3     Fungal infection         3.0  Fungal Infections   \n",
       "4     Fungal infection         4.0  Fungal Infections   \n",
       "...                ...         ...                ...   \n",
       "5098         Psoriasis      5077.0          Psoriasis   \n",
       "5099         Psoriasis      5078.0          Psoriasis   \n",
       "5100         Psoriasis      5079.0          Psoriasis   \n",
       "5101         Psoriasis      5080.0          Psoriasis   \n",
       "5102          Impetigo         NaN                NaN   \n",
       "\n",
       "                                            disease_url  \\\n",
       "0     https://www.netmeds.com/prescriptions/fungal-i...   \n",
       "1     https://www.netmeds.com/prescriptions/fungal-i...   \n",
       "2     https://www.netmeds.com/prescriptions/fungal-i...   \n",
       "3     https://www.netmeds.com/prescriptions/fungal-i...   \n",
       "4     https://www.netmeds.com/prescriptions/fungal-i...   \n",
       "...                                                 ...   \n",
       "5098    https://www.netmeds.com/prescriptions/psoriasis   \n",
       "5099    https://www.netmeds.com/prescriptions/psoriasis   \n",
       "5100    https://www.netmeds.com/prescriptions/psoriasis   \n",
       "5101    https://www.netmeds.com/prescriptions/psoriasis   \n",
       "5102                                                NaN   \n",
       "\n",
       "                          med_name medicine  \n",
       "0                2AZOLE Cream 20gm     None  \n",
       "1               2AZOLE Lotion 30ml     None  \n",
       "2                    8X Cream 30gm     None  \n",
       "3     ABZORB ANTIFUNGAL Soap 100gm     None  \n",
       "4              AF 150mg Tablet 1'S     None  \n",
       "...                            ...      ...  \n",
       "5098            TARSHINE Soap 75gm     None  \n",
       "5099    TRUSTRETIN 10 Capsule 10's     None  \n",
       "5100    TRUSTRETIN 25 Capsule 10's     None  \n",
       "5101        XALIDERM Solution 50ml     None  \n",
       "5102                           NaN     None  \n",
       "\n",
       "[5103 rows x 6 columns]"
      ]
     },
     "execution_count": 9,
     "metadata": {},
     "output_type": "execute_result"
    }
   ],
   "source": [
    "\n",
    "all_diseases = pd.DataFrame(dis_df['prognosis'].unique(), columns=['prognosis'])\n",
    "\n",
    "# Merge with med_df1 (keeping all diseases from dis_df + med_df1)\n",
    "updated_med_df1 = pd.merge(all_diseases, med_df1, on='prognosis', how='left')\n",
    "\n",
    "# If medicine column is missing, add it\n",
    "if 'medicine' not in updated_med_df1.columns:\n",
    "    updated_med_df1['medicine'] = None\n",
    "\n",
    "updated_med_df1\n"
   ]
  },
  {
   "cell_type": "code",
   "execution_count": 18,
   "id": "7dccd137",
   "metadata": {},
   "outputs": [],
   "source": [
    "updated_med_df1.drop(columns='Unnamed: 0',inplace=True)"
   ]
  },
  {
   "cell_type": "code",
   "execution_count": 19,
   "id": "1c52c3ac",
   "metadata": {},
   "outputs": [
    {
     "data": {
      "text/html": [
       "<div>\n",
       "<style scoped>\n",
       "    .dataframe tbody tr th:only-of-type {\n",
       "        vertical-align: middle;\n",
       "    }\n",
       "\n",
       "    .dataframe tbody tr th {\n",
       "        vertical-align: top;\n",
       "    }\n",
       "\n",
       "    .dataframe thead th {\n",
       "        text-align: right;\n",
       "    }\n",
       "</style>\n",
       "<table border=\"1\" class=\"dataframe\">\n",
       "  <thead>\n",
       "    <tr style=\"text-align: right;\">\n",
       "      <th></th>\n",
       "      <th>prognosis</th>\n",
       "      <th>disease_name</th>\n",
       "      <th>disease_url</th>\n",
       "      <th>med_name</th>\n",
       "    </tr>\n",
       "  </thead>\n",
       "  <tbody>\n",
       "    <tr>\n",
       "      <th>0</th>\n",
       "      <td>Fungal infection</td>\n",
       "      <td>Fungal Infections</td>\n",
       "      <td>https://www.netmeds.com/prescriptions/fungal-i...</td>\n",
       "      <td>2AZOLE Cream 20gm</td>\n",
       "    </tr>\n",
       "    <tr>\n",
       "      <th>1</th>\n",
       "      <td>Fungal infection</td>\n",
       "      <td>Fungal Infections</td>\n",
       "      <td>https://www.netmeds.com/prescriptions/fungal-i...</td>\n",
       "      <td>2AZOLE Lotion 30ml</td>\n",
       "    </tr>\n",
       "    <tr>\n",
       "      <th>2</th>\n",
       "      <td>Fungal infection</td>\n",
       "      <td>Fungal Infections</td>\n",
       "      <td>https://www.netmeds.com/prescriptions/fungal-i...</td>\n",
       "      <td>8X Cream 30gm</td>\n",
       "    </tr>\n",
       "    <tr>\n",
       "      <th>3</th>\n",
       "      <td>Fungal infection</td>\n",
       "      <td>Fungal Infections</td>\n",
       "      <td>https://www.netmeds.com/prescriptions/fungal-i...</td>\n",
       "      <td>ABZORB ANTIFUNGAL Soap 100gm</td>\n",
       "    </tr>\n",
       "    <tr>\n",
       "      <th>4</th>\n",
       "      <td>Fungal infection</td>\n",
       "      <td>Fungal Infections</td>\n",
       "      <td>https://www.netmeds.com/prescriptions/fungal-i...</td>\n",
       "      <td>AF 150mg Tablet 1'S</td>\n",
       "    </tr>\n",
       "    <tr>\n",
       "      <th>...</th>\n",
       "      <td>...</td>\n",
       "      <td>...</td>\n",
       "      <td>...</td>\n",
       "      <td>...</td>\n",
       "    </tr>\n",
       "    <tr>\n",
       "      <th>5098</th>\n",
       "      <td>Psoriasis</td>\n",
       "      <td>Psoriasis</td>\n",
       "      <td>https://www.netmeds.com/prescriptions/psoriasis</td>\n",
       "      <td>TARSHINE Soap 75gm</td>\n",
       "    </tr>\n",
       "    <tr>\n",
       "      <th>5099</th>\n",
       "      <td>Psoriasis</td>\n",
       "      <td>Psoriasis</td>\n",
       "      <td>https://www.netmeds.com/prescriptions/psoriasis</td>\n",
       "      <td>TRUSTRETIN 10 Capsule 10's</td>\n",
       "    </tr>\n",
       "    <tr>\n",
       "      <th>5100</th>\n",
       "      <td>Psoriasis</td>\n",
       "      <td>Psoriasis</td>\n",
       "      <td>https://www.netmeds.com/prescriptions/psoriasis</td>\n",
       "      <td>TRUSTRETIN 25 Capsule 10's</td>\n",
       "    </tr>\n",
       "    <tr>\n",
       "      <th>5101</th>\n",
       "      <td>Psoriasis</td>\n",
       "      <td>Psoriasis</td>\n",
       "      <td>https://www.netmeds.com/prescriptions/psoriasis</td>\n",
       "      <td>XALIDERM Solution 50ml</td>\n",
       "    </tr>\n",
       "    <tr>\n",
       "      <th>5102</th>\n",
       "      <td>Impetigo</td>\n",
       "      <td>NaN</td>\n",
       "      <td>NaN</td>\n",
       "      <td>NaN</td>\n",
       "    </tr>\n",
       "  </tbody>\n",
       "</table>\n",
       "<p>5103 rows × 4 columns</p>\n",
       "</div>"
      ],
      "text/plain": [
       "             prognosis       disease_name  \\\n",
       "0     Fungal infection  Fungal Infections   \n",
       "1     Fungal infection  Fungal Infections   \n",
       "2     Fungal infection  Fungal Infections   \n",
       "3     Fungal infection  Fungal Infections   \n",
       "4     Fungal infection  Fungal Infections   \n",
       "...                ...                ...   \n",
       "5098         Psoriasis          Psoriasis   \n",
       "5099         Psoriasis          Psoriasis   \n",
       "5100         Psoriasis          Psoriasis   \n",
       "5101         Psoriasis          Psoriasis   \n",
       "5102          Impetigo                NaN   \n",
       "\n",
       "                                            disease_url  \\\n",
       "0     https://www.netmeds.com/prescriptions/fungal-i...   \n",
       "1     https://www.netmeds.com/prescriptions/fungal-i...   \n",
       "2     https://www.netmeds.com/prescriptions/fungal-i...   \n",
       "3     https://www.netmeds.com/prescriptions/fungal-i...   \n",
       "4     https://www.netmeds.com/prescriptions/fungal-i...   \n",
       "...                                                 ...   \n",
       "5098    https://www.netmeds.com/prescriptions/psoriasis   \n",
       "5099    https://www.netmeds.com/prescriptions/psoriasis   \n",
       "5100    https://www.netmeds.com/prescriptions/psoriasis   \n",
       "5101    https://www.netmeds.com/prescriptions/psoriasis   \n",
       "5102                                                NaN   \n",
       "\n",
       "                          med_name  \n",
       "0                2AZOLE Cream 20gm  \n",
       "1               2AZOLE Lotion 30ml  \n",
       "2                    8X Cream 30gm  \n",
       "3     ABZORB ANTIFUNGAL Soap 100gm  \n",
       "4              AF 150mg Tablet 1'S  \n",
       "...                            ...  \n",
       "5098            TARSHINE Soap 75gm  \n",
       "5099    TRUSTRETIN 10 Capsule 10's  \n",
       "5100    TRUSTRETIN 25 Capsule 10's  \n",
       "5101        XALIDERM Solution 50ml  \n",
       "5102                           NaN  \n",
       "\n",
       "[5103 rows x 4 columns]"
      ]
     },
     "execution_count": 19,
     "metadata": {},
     "output_type": "execute_result"
    }
   ],
   "source": [
    "updated_med_df1"
   ]
  },
  {
   "cell_type": "code",
   "execution_count": 10,
   "id": "f9d63454",
   "metadata": {},
   "outputs": [
    {
     "data": {
      "text/plain": [
       "array(['Fungal infection', 'Allergy', 'GERD', 'Chronic cholestasis',\n",
       "       'Drug Reaction', 'Peptic ulcer diseae', 'AIDS', 'Diabetes ',\n",
       "       'Gastroenteritis', 'Bronchial Asthma', 'Hypertension ', 'Migraine',\n",
       "       'Cervical spondylosis', 'Paralysis (brain hemorrhage)', 'Jaundice',\n",
       "       'Malaria', 'Chicken pox', 'Dengue', 'Typhoid', 'hepatitis A',\n",
       "       'Hepatitis B', 'Hepatitis C', 'Hepatitis D', 'Hepatitis E',\n",
       "       'Alcoholic hepatitis', 'Tuberculosis', 'Common Cold', 'Pneumonia',\n",
       "       'Dimorphic hemmorhoids(piles)', 'Heart attack', 'Varicose veins',\n",
       "       'Hypothyroidism', 'Hyperthyroidism', 'Hypoglycemia',\n",
       "       'Osteoarthristis', 'Arthritis',\n",
       "       '(vertigo) Paroymsal  Positional Vertigo', 'Acne',\n",
       "       'Urinary tract infection', 'Psoriasis', 'Impetigo'], dtype=object)"
      ]
     },
     "execution_count": 10,
     "metadata": {},
     "output_type": "execute_result"
    }
   ],
   "source": [
    "updated_med_df1['prognosis'].unique()"
   ]
  },
  {
   "cell_type": "code",
   "execution_count": 52,
   "id": "c7bff96b",
   "metadata": {},
   "outputs": [
    {
     "data": {
      "text/html": [
       "<div>\n",
       "<style scoped>\n",
       "    .dataframe tbody tr th:only-of-type {\n",
       "        vertical-align: middle;\n",
       "    }\n",
       "\n",
       "    .dataframe tbody tr th {\n",
       "        vertical-align: top;\n",
       "    }\n",
       "\n",
       "    .dataframe thead th {\n",
       "        text-align: right;\n",
       "    }\n",
       "</style>\n",
       "<table border=\"1\" class=\"dataframe\">\n",
       "  <thead>\n",
       "    <tr style=\"text-align: right;\">\n",
       "      <th></th>\n",
       "      <th>prognosis</th>\n",
       "      <th>disease_name</th>\n",
       "      <th>disease_url</th>\n",
       "      <th>med_name</th>\n",
       "    </tr>\n",
       "  </thead>\n",
       "  <tbody>\n",
       "    <tr>\n",
       "      <th>4005</th>\n",
       "      <td>Chicken pox</td>\n",
       "      <td>NaN</td>\n",
       "      <td>NaN</td>\n",
       "      <td>NaN</td>\n",
       "    </tr>\n",
       "  </tbody>\n",
       "</table>\n",
       "</div>"
      ],
      "text/plain": [
       "        prognosis disease_name disease_url med_name\n",
       "4005  Chicken pox          NaN         NaN      NaN"
      ]
     },
     "execution_count": 52,
     "metadata": {},
     "output_type": "execute_result"
    }
   ],
   "source": [
    "updated_med_df1[updated_med_df1['prognosis']=='Chicken pox'].head(3)"
   ]
  },
  {
   "cell_type": "code",
   "execution_count": null,
   "id": "6cd6d97a",
   "metadata": {},
   "outputs": [],
   "source": [
    "# for i in updated_med_df1['prognosis'].unique():\n",
    "#     print(updated_med_df1[updated_med_df1['prognosis']==i].head(3))"
   ]
  },
  {
   "cell_type": "code",
   "execution_count": 64,
   "id": "80d1e63c",
   "metadata": {},
   "outputs": [
    {
     "data": {
      "text/plain": [
       "array(['Fungal infection', 'Allergy', 'GERD', 'Chronic cholestasis',\n",
       "       'Drug Reaction', 'Peptic ulcer diseae', 'AIDS', 'Diabetes ',\n",
       "       'Gastroenteritis', 'Bronchial Asthma', 'Hypertension ', 'Migraine',\n",
       "       'Cervical spondylosis', 'Paralysis (brain hemorrhage)', 'Jaundice',\n",
       "       'Malaria', 'Chicken pox', 'Dengue', 'Typhoid', 'hepatitis A',\n",
       "       'Hepatitis B', 'Hepatitis C', 'Hepatitis D', 'Hepatitis E',\n",
       "       'Alcoholic hepatitis', 'Tuberculosis', 'Common Cold', 'Pneumonia',\n",
       "       'Dimorphic hemmorhoids(piles)', 'Heart attack', 'Varicose veins',\n",
       "       'Hypothyroidism', 'Hyperthyroidism', 'Hypoglycemia',\n",
       "       'Osteoarthristis', 'Arthritis',\n",
       "       '(vertigo) Paroymsal  Positional Vertigo', 'Acne',\n",
       "       'Urinary tract infection', 'Psoriasis', 'Impetigo'], dtype=object)"
      ]
     },
     "execution_count": 64,
     "metadata": {},
     "output_type": "execute_result"
    }
   ],
   "source": [
    "updated_med_df1['prognosis'].unique()"
   ]
  },
  {
   "cell_type": "code",
   "execution_count": 22,
   "id": "8876feca",
   "metadata": {},
   "outputs": [
    {
     "data": {
      "text/plain": [
       "array(['Chronic cholestasis', 'Drug Reaction', 'Peptic ulcer diseae',\n",
       "       'Gastroenteritis', 'Bronchial Asthma', 'Cervical spondylosis',\n",
       "       'Paralysis (brain hemorrhage)', 'Jaundice', 'Chicken pox',\n",
       "       'Dengue', 'Typhoid', 'hepatitis A', 'Hepatitis B', 'Hepatitis C',\n",
       "       'Hepatitis D', 'Hepatitis E', 'Tuberculosis', 'Common Cold',\n",
       "       'Pneumonia', 'Heart attack', 'Hypoglycemia', 'Impetigo'],\n",
       "      dtype=object)"
      ]
     },
     "execution_count": 22,
     "metadata": {},
     "output_type": "execute_result"
    }
   ],
   "source": [
    "# diseases with empty medicine name\n",
    "updated_med_df1[updated_med_df1['disease_name'].isna()]['prognosis'].unique()"
   ]
  },
  {
   "cell_type": "code",
   "execution_count": 84,
   "id": "a1c6dd72",
   "metadata": {},
   "outputs": [
    {
     "data": {
      "text/html": [
       "<div>\n",
       "<style scoped>\n",
       "    .dataframe tbody tr th:only-of-type {\n",
       "        vertical-align: middle;\n",
       "    }\n",
       "\n",
       "    .dataframe tbody tr th {\n",
       "        vertical-align: top;\n",
       "    }\n",
       "\n",
       "    .dataframe thead th {\n",
       "        text-align: right;\n",
       "    }\n",
       "</style>\n",
       "<table border=\"1\" class=\"dataframe\">\n",
       "  <thead>\n",
       "    <tr style=\"text-align: right;\">\n",
       "      <th></th>\n",
       "      <th>prognosis</th>\n",
       "      <th>disease_name</th>\n",
       "      <th>disease_url</th>\n",
       "      <th>med_name</th>\n",
       "    </tr>\n",
       "  </thead>\n",
       "  <tbody>\n",
       "    <tr>\n",
       "      <th>1718</th>\n",
       "      <td>GERD</td>\n",
       "      <td>Liver Disease</td>\n",
       "      <td>https://www.netmeds.com/prescriptions/liver-di...</td>\n",
       "      <td>ADESAM NEW 200 Tablet 10's</td>\n",
       "    </tr>\n",
       "    <tr>\n",
       "      <th>1719</th>\n",
       "      <td>GERD</td>\n",
       "      <td>Liver Disease</td>\n",
       "      <td>https://www.netmeds.com/prescriptions/liver-di...</td>\n",
       "      <td>Analiv 500mg Tablet 10'S</td>\n",
       "    </tr>\n",
       "    <tr>\n",
       "      <th>1720</th>\n",
       "      <td>GERD</td>\n",
       "      <td>Liver Disease</td>\n",
       "      <td>https://www.netmeds.com/prescriptions/liver-di...</td>\n",
       "      <td>ASMYMAX (Veg) 400 Tablet 10's</td>\n",
       "    </tr>\n",
       "    <tr>\n",
       "      <th>1721</th>\n",
       "      <td>GERD</td>\n",
       "      <td>Liver Disease</td>\n",
       "      <td>https://www.netmeds.com/prescriptions/liver-di...</td>\n",
       "      <td>ASMY MAX 400 Tablet 10's</td>\n",
       "    </tr>\n",
       "    <tr>\n",
       "      <th>1722</th>\n",
       "      <td>GERD</td>\n",
       "      <td>Liver Disease</td>\n",
       "      <td>https://www.netmeds.com/prescriptions/liver-di...</td>\n",
       "      <td>CIROZE 200 Tablet 10's</td>\n",
       "    </tr>\n",
       "    <tr>\n",
       "      <th>...</th>\n",
       "      <td>...</td>\n",
       "      <td>...</td>\n",
       "      <td>...</td>\n",
       "      <td>...</td>\n",
       "    </tr>\n",
       "    <tr>\n",
       "      <th>1786</th>\n",
       "      <td>GERD</td>\n",
       "      <td>Liver Disease</td>\n",
       "      <td>https://www.netmeds.com/prescriptions/liver-di...</td>\n",
       "      <td>Usibon 300mg Tablet 10'S</td>\n",
       "    </tr>\n",
       "    <tr>\n",
       "      <th>1787</th>\n",
       "      <td>GERD</td>\n",
       "      <td>Liver Disease</td>\n",
       "      <td>https://www.netmeds.com/prescriptions/liver-di...</td>\n",
       "      <td>Viboliv 500mg Tablet 10'S</td>\n",
       "    </tr>\n",
       "    <tr>\n",
       "      <th>1788</th>\n",
       "      <td>GERD</td>\n",
       "      <td>Liver Disease</td>\n",
       "      <td>https://www.netmeds.com/prescriptions/liver-di...</td>\n",
       "      <td>ALDAID Tablet 15's</td>\n",
       "    </tr>\n",
       "    <tr>\n",
       "      <th>1789</th>\n",
       "      <td>GERD</td>\n",
       "      <td>Liver Disease</td>\n",
       "      <td>https://www.netmeds.com/prescriptions/liver-di...</td>\n",
       "      <td>LINSAM 400 Tablet 10's</td>\n",
       "    </tr>\n",
       "    <tr>\n",
       "      <th>1790</th>\n",
       "      <td>GERD</td>\n",
       "      <td>Liver Disease</td>\n",
       "      <td>https://www.netmeds.com/prescriptions/liver-di...</td>\n",
       "      <td>SAMVIG Tablet 10's</td>\n",
       "    </tr>\n",
       "  </tbody>\n",
       "</table>\n",
       "<p>73 rows × 4 columns</p>\n",
       "</div>"
      ],
      "text/plain": [
       "     prognosis   disease_name  \\\n",
       "1718      GERD  Liver Disease   \n",
       "1719      GERD  Liver Disease   \n",
       "1720      GERD  Liver Disease   \n",
       "1721      GERD  Liver Disease   \n",
       "1722      GERD  Liver Disease   \n",
       "...        ...            ...   \n",
       "1786      GERD  Liver Disease   \n",
       "1787      GERD  Liver Disease   \n",
       "1788      GERD  Liver Disease   \n",
       "1789      GERD  Liver Disease   \n",
       "1790      GERD  Liver Disease   \n",
       "\n",
       "                                            disease_url  \\\n",
       "1718  https://www.netmeds.com/prescriptions/liver-di...   \n",
       "1719  https://www.netmeds.com/prescriptions/liver-di...   \n",
       "1720  https://www.netmeds.com/prescriptions/liver-di...   \n",
       "1721  https://www.netmeds.com/prescriptions/liver-di...   \n",
       "1722  https://www.netmeds.com/prescriptions/liver-di...   \n",
       "...                                                 ...   \n",
       "1786  https://www.netmeds.com/prescriptions/liver-di...   \n",
       "1787  https://www.netmeds.com/prescriptions/liver-di...   \n",
       "1788  https://www.netmeds.com/prescriptions/liver-di...   \n",
       "1789  https://www.netmeds.com/prescriptions/liver-di...   \n",
       "1790  https://www.netmeds.com/prescriptions/liver-di...   \n",
       "\n",
       "                           med_name  \n",
       "1718     ADESAM NEW 200 Tablet 10's  \n",
       "1719       Analiv 500mg Tablet 10'S  \n",
       "1720  ASMYMAX (Veg) 400 Tablet 10's  \n",
       "1721       ASMY MAX 400 Tablet 10's  \n",
       "1722         CIROZE 200 Tablet 10's  \n",
       "...                             ...  \n",
       "1786       Usibon 300mg Tablet 10'S  \n",
       "1787      Viboliv 500mg Tablet 10'S  \n",
       "1788             ALDAID Tablet 15's  \n",
       "1789         LINSAM 400 Tablet 10's  \n",
       "1790             SAMVIG Tablet 10's  \n",
       "\n",
       "[73 rows x 4 columns]"
      ]
     },
     "execution_count": 84,
     "metadata": {},
     "output_type": "execute_result"
    }
   ],
   "source": [
    "updated_med_df1[updated_med_df1['prognosis']=='GERD']"
   ]
  },
  {
   "cell_type": "code",
   "execution_count": null,
   "id": "625691aa",
   "metadata": {},
   "outputs": [],
   "source": [
    "# dictionary of medicines for your missing diseases\n",
    "med_suggestions = {\n",
    "    \"Chronic cholestasis\": [\"Ursodeoxycholic Acid\", \"Cholestyramine\", \"Rifampicin\", \"Naltrexone\", \"Vitamin K\"],\n",
    "    \"Drug Reaction\": [\"Antihistamines\", \"Corticosteroids\", \"Epinephrine\", \"Activated Charcoal\", \"Supportive Care\"],\n",
    "    \"Peptic ulcer diseae\": [\"Omeprazole\", \"Pantoprazole\", \"Ranitidine\", \"Sucralfate\", \"Amoxicillin\"],\n",
    "    \"Gastroenteritis\": [\"Oral Rehydration Salts\", \"Ciprofloxacin\", \"Metronidazole\", \"Zinc Supplements\", \"Ondansetron\"],\n",
    "    \"Bronchial Asthma\": [\"Salbutamol\", \"Budesonide\", \"Montelukast\", \"Formoterol\", \"Ipratropium\"],\n",
    "    \"Cervical spondylosis\": [\"Ibuprofen\", \"Paracetamol\", \"Naproxen\", \"Muscle Relaxants\", \"Physiotherapy Support\"],\n",
    "    \"Paralysis (brain hemorrhage)\": [\"Mannitol\", \"Nimodipine\", \"Aspirin\", \"Clopidogrel\", \"Physiotherapy\"],\n",
    "    \"Jaundice\": [\"Supportive Care\", \"Ursodeoxycholic Acid\", \"Vitamin K\", \"IV Fluids\", \"Cholestyramine\"],\n",
    "    \"Chicken pox\": [\"Acyclovir\", \"Paracetamol\", \"Calamine Lotion\", \"Antihistamines\", \"Ibuprofen\"],\n",
    "    \"Dengue\": [\"Paracetamol\", \"IV Fluids\", \"Electrolyte Solution\", \"Platelet Transfusion\", \"Supportive Care\"],\n",
    "    \"Typhoid\": [\"Ceftriaxone\", \"Azithromycin\", \"Ciprofloxacin\", \"Ofloxacin\", \"Amoxicillin\"],\n",
    "    \"hepatitis A\": [\"Supportive Care\", \"Paracetamol\", \"Ondansetron\", \"Multivitamins\", \"IV Fluids\"],\n",
    "    \"Hepatitis B\": [\"Tenofovir\", \"Entecavir\", \"Lamivudine\", \"Adefovir\", \"Peginterferon\"],\n",
    "    \"Hepatitis C\": [\"Sofosbuvir\", \"Ledipasvir\", \"Velpatasvir\", \"Ribavirin\", \"Daclatasvir\"],\n",
    "    \"Hepatitis D\": [\"Interferon alfa\", \"Supportive Care\", \"Liver Protectives\", \"Tenofovir\", \"Transplant Consideration\"],\n",
    "    \"Hepatitis E\": [\"Supportive Care\", \"Ribavirin\", \"IV Fluids\", \"Paracetamol\", \"Rest\"],\n",
    "    \"Tuberculosis\": [\"Isoniazid\", \"Rifampicin\", \"Pyrazinamide\", \"Ethambutol\", \"Streptomycin\"],\n",
    "    \"Common Cold\": [\"Paracetamol\", \"Cetirizine\", \"Phenylephrine\", \"Dextromethorphan\", \"Chlorpheniramine\"],\n",
    "    \"Pneumonia\": [\"Amoxicillin\", \"Azithromycin\", \"Ceftriaxone\", \"Clarithromycin\", \"Levofloxacin\"],\n",
    "    \"Heart attack\": [\"Aspirin\", \"Clopidogrel\", \"Atorvastatin\", \"Metoprolol\", \"Heparin\"],\n",
    "    \"Hypoglycemia\": [\"Glucose Tablets\", \"Dextrose IV\", \"Glucagon Injection\", \"Fruit Juice\", \"Oral Sugar\"],\n",
    "    \"Impetigo\": [\"Mupirocin\", \"Fusidic Acid\", \"Cephalexin\", \"Dicloxacillin\", \"Erythromycin\"]\n",
    "}\n",
    "\n",
    "# expand only rows where medicine is missing\n",
    "final_rows = []\n",
    "for _, row in updated_med_df1.iterrows():\n",
    "    disease = row['prognosis']\n",
    "    if pd.isna(row['med_name']) and disease in med_suggestions:\n",
    "        for med in med_suggestions[disease]:\n",
    "            new_row = row.copy()\n",
    "            new_row['med_name'] = med\n",
    "            final_rows.append(new_row)\n",
    "    else:\n",
    "        final_rows.append(row)\n",
    "\n",
    "final_med_df1 = pd.DataFrame(final_rows)\n",
    "\n"
   ]
  },
  {
   "cell_type": "code",
   "execution_count": 27,
   "id": "26ce201d",
   "metadata": {},
   "outputs": [
    {
     "data": {
      "text/html": [
       "<div>\n",
       "<style scoped>\n",
       "    .dataframe tbody tr th:only-of-type {\n",
       "        vertical-align: middle;\n",
       "    }\n",
       "\n",
       "    .dataframe tbody tr th {\n",
       "        vertical-align: top;\n",
       "    }\n",
       "\n",
       "    .dataframe thead th {\n",
       "        text-align: right;\n",
       "    }\n",
       "</style>\n",
       "<table border=\"1\" class=\"dataframe\">\n",
       "  <thead>\n",
       "    <tr style=\"text-align: right;\">\n",
       "      <th></th>\n",
       "      <th>prognosis</th>\n",
       "      <th>disease_name</th>\n",
       "      <th>disease_url</th>\n",
       "      <th>med_name</th>\n",
       "    </tr>\n",
       "  </thead>\n",
       "  <tbody>\n",
       "    <tr>\n",
       "      <th>0</th>\n",
       "      <td>Fungal infection</td>\n",
       "      <td>Fungal Infections</td>\n",
       "      <td>https://www.netmeds.com/prescriptions/fungal-i...</td>\n",
       "      <td>2AZOLE Cream 20gm</td>\n",
       "    </tr>\n",
       "    <tr>\n",
       "      <th>1</th>\n",
       "      <td>Fungal infection</td>\n",
       "      <td>Fungal Infections</td>\n",
       "      <td>https://www.netmeds.com/prescriptions/fungal-i...</td>\n",
       "      <td>2AZOLE Lotion 30ml</td>\n",
       "    </tr>\n",
       "    <tr>\n",
       "      <th>2</th>\n",
       "      <td>Fungal infection</td>\n",
       "      <td>Fungal Infections</td>\n",
       "      <td>https://www.netmeds.com/prescriptions/fungal-i...</td>\n",
       "      <td>8X Cream 30gm</td>\n",
       "    </tr>\n",
       "    <tr>\n",
       "      <th>3</th>\n",
       "      <td>Fungal infection</td>\n",
       "      <td>Fungal Infections</td>\n",
       "      <td>https://www.netmeds.com/prescriptions/fungal-i...</td>\n",
       "      <td>ABZORB ANTIFUNGAL Soap 100gm</td>\n",
       "    </tr>\n",
       "    <tr>\n",
       "      <th>4</th>\n",
       "      <td>Fungal infection</td>\n",
       "      <td>Fungal Infections</td>\n",
       "      <td>https://www.netmeds.com/prescriptions/fungal-i...</td>\n",
       "      <td>AF 150mg Tablet 1'S</td>\n",
       "    </tr>\n",
       "    <tr>\n",
       "      <th>...</th>\n",
       "      <td>...</td>\n",
       "      <td>...</td>\n",
       "      <td>...</td>\n",
       "      <td>...</td>\n",
       "    </tr>\n",
       "    <tr>\n",
       "      <th>5102</th>\n",
       "      <td>Impetigo</td>\n",
       "      <td>NaN</td>\n",
       "      <td>NaN</td>\n",
       "      <td>Mupirocin</td>\n",
       "    </tr>\n",
       "    <tr>\n",
       "      <th>5102</th>\n",
       "      <td>Impetigo</td>\n",
       "      <td>NaN</td>\n",
       "      <td>NaN</td>\n",
       "      <td>Fusidic Acid</td>\n",
       "    </tr>\n",
       "    <tr>\n",
       "      <th>5102</th>\n",
       "      <td>Impetigo</td>\n",
       "      <td>NaN</td>\n",
       "      <td>NaN</td>\n",
       "      <td>Cephalexin</td>\n",
       "    </tr>\n",
       "    <tr>\n",
       "      <th>5102</th>\n",
       "      <td>Impetigo</td>\n",
       "      <td>NaN</td>\n",
       "      <td>NaN</td>\n",
       "      <td>Dicloxacillin</td>\n",
       "    </tr>\n",
       "    <tr>\n",
       "      <th>5102</th>\n",
       "      <td>Impetigo</td>\n",
       "      <td>NaN</td>\n",
       "      <td>NaN</td>\n",
       "      <td>Erythromycin</td>\n",
       "    </tr>\n",
       "  </tbody>\n",
       "</table>\n",
       "<p>5191 rows × 4 columns</p>\n",
       "</div>"
      ],
      "text/plain": [
       "             prognosis       disease_name  \\\n",
       "0     Fungal infection  Fungal Infections   \n",
       "1     Fungal infection  Fungal Infections   \n",
       "2     Fungal infection  Fungal Infections   \n",
       "3     Fungal infection  Fungal Infections   \n",
       "4     Fungal infection  Fungal Infections   \n",
       "...                ...                ...   \n",
       "5102          Impetigo                NaN   \n",
       "5102          Impetigo                NaN   \n",
       "5102          Impetigo                NaN   \n",
       "5102          Impetigo                NaN   \n",
       "5102          Impetigo                NaN   \n",
       "\n",
       "                                            disease_url  \\\n",
       "0     https://www.netmeds.com/prescriptions/fungal-i...   \n",
       "1     https://www.netmeds.com/prescriptions/fungal-i...   \n",
       "2     https://www.netmeds.com/prescriptions/fungal-i...   \n",
       "3     https://www.netmeds.com/prescriptions/fungal-i...   \n",
       "4     https://www.netmeds.com/prescriptions/fungal-i...   \n",
       "...                                                 ...   \n",
       "5102                                                NaN   \n",
       "5102                                                NaN   \n",
       "5102                                                NaN   \n",
       "5102                                                NaN   \n",
       "5102                                                NaN   \n",
       "\n",
       "                          med_name  \n",
       "0                2AZOLE Cream 20gm  \n",
       "1               2AZOLE Lotion 30ml  \n",
       "2                    8X Cream 30gm  \n",
       "3     ABZORB ANTIFUNGAL Soap 100gm  \n",
       "4              AF 150mg Tablet 1'S  \n",
       "...                            ...  \n",
       "5102                     Mupirocin  \n",
       "5102                  Fusidic Acid  \n",
       "5102                    Cephalexin  \n",
       "5102                 Dicloxacillin  \n",
       "5102                  Erythromycin  \n",
       "\n",
       "[5191 rows x 4 columns]"
      ]
     },
     "execution_count": 27,
     "metadata": {},
     "output_type": "execute_result"
    }
   ],
   "source": [
    "final_med_df1"
   ]
  },
  {
   "cell_type": "code",
   "execution_count": 28,
   "id": "4280e934",
   "metadata": {},
   "outputs": [],
   "source": [
    "# Replace NaN in disease_name with prognosis value\n",
    "final_med_df1['disease_name'] = final_med_df1['disease_name'].fillna(final_med_df1['prognosis'])"
   ]
  },
  {
   "cell_type": "code",
   "execution_count": 34,
   "id": "e01966f7",
   "metadata": {},
   "outputs": [
    {
     "data": {
      "text/plain": [
       "array(['Fungal infection', 'Allergy', 'GERD', 'Chronic cholestasis',\n",
       "       'Drug Reaction', 'Peptic ulcer diseae', 'AIDS', 'Diabetes ',\n",
       "       'Gastroenteritis', 'Bronchial Asthma', 'Hypertension ', 'Migraine',\n",
       "       'Cervical spondylosis', 'Paralysis (brain hemorrhage)', 'Jaundice',\n",
       "       'Malaria', 'Chicken pox', 'Dengue', 'Typhoid', 'hepatitis A',\n",
       "       'Hepatitis B', 'Hepatitis C', 'Hepatitis D', 'Hepatitis E',\n",
       "       'Alcoholic hepatitis', 'Tuberculosis', 'Common Cold', 'Pneumonia',\n",
       "       'Dimorphic hemmorhoids(piles)', 'Heart attack', 'Varicose veins',\n",
       "       'Hypothyroidism', 'Hyperthyroidism', 'Hypoglycemia',\n",
       "       'Osteoarthristis', 'Arthritis',\n",
       "       '(vertigo) Paroymsal  Positional Vertigo', 'Acne',\n",
       "       'Urinary tract infection', 'Psoriasis', 'Impetigo'], dtype=object)"
      ]
     },
     "execution_count": 34,
     "metadata": {},
     "output_type": "execute_result"
    }
   ],
   "source": [
    "final_med_df1['prognosis'].unique()"
   ]
  },
  {
   "cell_type": "code",
   "execution_count": 35,
   "metadata": {},
   "outputs": [
    {
     "data": {
      "text/plain": [
       "array(['Fungal Infections', 'Allergies', 'Liver Disease',\n",
       "       'Chronic cholestasis', 'Drug Reaction', 'Peptic ulcer diseae',\n",
       "       'Amoebiasis', 'Diabetes', 'Gastroenteritis', 'Bronchial Asthma',\n",
       "       'Hypertension', 'Migraine', 'Cervical spondylosis',\n",
       "       'Paralysis (brain hemorrhage)', 'Jaundice', 'Malarial',\n",
       "       'Chicken pox', 'Dengue', 'Typhoid', 'hepatitis A', 'Hepatitis B',\n",
       "       'Hepatitis C', 'Hepatitis D', 'Hepatitis E', 'Arthritis',\n",
       "       'Tuberculosis', 'Common Cold', 'Pneumonia', 'Haemorrhoid',\n",
       "       'Heart attack', 'Varicose Veins', 'Hypothyroidism',\n",
       "       'Hyperthyroidism', 'Hypoglycemia', 'Vertigo', 'Acne',\n",
       "       'Uti Infections', 'Psoriasis', 'Impetigo'], dtype=object)"
      ]
     },
     "execution_count": 35,
     "metadata": {},
     "output_type": "execute_result"
    }
   ],
   "source": [
    "final_med_df1['disease_name'].unique()"
   ]
  },
  {
   "cell_type": "code",
   "execution_count": null,
   "id": "6927546f",
   "metadata": {},
   "outputs": [],
   "source": []
  },
  {
   "cell_type": "code",
   "execution_count": null,
   "id": "8a923de7",
   "metadata": {},
   "outputs": [],
   "source": []
  },
  {
   "cell_type": "code",
   "execution_count": null,
   "id": "b0303cb9",
   "metadata": {},
   "outputs": [],
   "source": []
  },
  {
   "cell_type": "code",
   "execution_count": 29,
   "id": "c253602c",
   "metadata": {},
   "outputs": [],
   "source": [
    "final_med_df1.to_csv('disease-med.csv')"
   ]
  },
  {
   "cell_type": "code",
   "execution_count": null,
   "id": "6f352039",
   "metadata": {},
   "outputs": [],
   "source": [
    "med_df1[med_df1.duplicated()].count()"
   ]
  },
  {
   "cell_type": "code",
   "execution_count": null,
   "id": "43ae4630",
   "metadata": {},
   "outputs": [],
   "source": [
    "med_df1['disease_name'].unique()"
   ]
  },
  {
   "cell_type": "code",
   "execution_count": null,
   "id": "956876e3",
   "metadata": {},
   "outputs": [],
   "source": [
    "import pandas as pd\n",
    "import re\n",
    "\n",
    "\n",
    "def clean_disease_name(name):\n",
    "    return re.sub(r'\\s*\\(.*\\)$', '', str(name)).strip()\n",
    "\n",
    "med_df1['disease_name'] = med_df1['disease_name'].apply(clean_disease_name)\n",
    "\n",
    "\n",
    "med_df1['disease_name'].unique()"
   ]
  },
  {
   "cell_type": "code",
   "execution_count": null,
   "id": "2284f149",
   "metadata": {},
   "outputs": [],
   "source": [
    "from fuzzywuzzy import process\n",
    "\n",
    "def count_fuzzy_matches(df1, df2, disease_col1='Disease', disease_col2='Disease', threshold=68):\n",
    "    diseases1 = df1[disease_col1].dropna().unique()\n",
    "    diseases2 = df2[disease_col2].dropna().unique()\n",
    "    matches = []\n",
    "    \n",
    "    for d1 in diseases1:\n",
    "        best_match, score = process.extractOne(d1, diseases2)\n",
    "        if score >= threshold:\n",
    "            matches.append((d1, best_match, score))\n",
    "    return len(matches), matches\n",
    "\n",
    "\n",
    "count, match_list = count_fuzzy_matches(dis_df, med_df1, disease_col1='prognosis', disease_col2='disease_name')\n",
    "print('Number of fuzzy matches:', count)\n",
    "for a,b,score in match_list:\n",
    "    print(f\"{a} <-> {b} (score: {score})\")\n",
    "\n",
    "\n"
   ]
  },
  {
   "cell_type": "code",
   "execution_count": null,
   "id": "b1890c6b",
   "metadata": {},
   "outputs": [],
   "source": [
    "import pandas as pd\n",
    "from fuzzywuzzy import process\n",
    "\n",
    "def count_fuzzy_matches(df1, df2, disease_col1='Disease', disease_col2='Disease', threshold=68):\n",
    "    diseases1 = df1[disease_col1].dropna().unique()\n",
    "    diseases2 = df2[disease_col2].dropna().unique()\n",
    "    matches = []\n",
    "    for d1 in diseases1:\n",
    "        best_match, score = process.extractOne(d1, diseases2)\n",
    "        if score >= threshold:\n",
    "            matches.append((d1, best_match, score))\n",
    "    return len(matches), matches\n",
    "\n",
    "# Get matches\n",
    "count, match_list = count_fuzzy_matches(dis_df, med_df1, disease_col1='prognosis', disease_col2='disease_name', threshold=68)\n",
    "\n",
    "# Create DataFrame of matches\n",
    "matches_df = pd.DataFrame(match_list, columns=['prognosis', 'disease_name', 'score'])\n",
    "\n",
    "# Merge with medication dataframe to get medication info (adjust column names as needed)\n",
    "result_df = matches_df.merge(\n",
    "    med_df1, left_on='disease_name', right_on='disease_name', how='left'\n",
    ")\n",
    "\n",
    "# Optionally, if you want to add info from your diagnosis dataframe:\n",
    "# result_df = result_df.merge(\n",
    "#     dis_df, left_on='prognosis', right_on='prognosis', how='left'\n",
    "# )\n",
    "\n",
    "# Display the resulting DataFrame\n",
    "# print(result_df[['prognosis', 'disease_name', 'score', 'medication_name', 'any_other_column_you_need']].head())\n",
    "result_df\n"
   ]
  },
  {
   "cell_type": "code",
   "execution_count": null,
   "id": "05dd2118",
   "metadata": {},
   "outputs": [],
   "source": [
    "result_df.to_csv(\"disease2med.csv\")"
   ]
  },
  {
   "cell_type": "code",
   "execution_count": null,
   "id": "b5a779c8",
   "metadata": {},
   "outputs": [],
   "source": [
    "med_df2['Disease Prediction'].unique()"
   ]
  },
  {
   "cell_type": "code",
   "execution_count": null,
   "id": "d9355186",
   "metadata": {},
   "outputs": [],
   "source": []
  },
  {
   "cell_type": "code",
   "execution_count": null,
   "id": "ed8da1fb",
   "metadata": {},
   "outputs": [],
   "source": []
  },
  {
   "cell_type": "code",
   "execution_count": null,
   "id": "ef29d034",
   "metadata": {},
   "outputs": [],
   "source": []
  }
 ],
 "metadata": {
  "kernelspec": {
   "display_name": "Python 3",
   "language": "python",
   "name": "python3"
  },
  "language_info": {
   "codemirror_mode": {
    "name": "ipython",
    "version": 3
   },
   "file_extension": ".py",
   "mimetype": "text/x-python",
   "name": "python",
   "nbconvert_exporter": "python",
   "pygments_lexer": "ipython3",
   "version": "3.10.10"
  }
 },
 "nbformat": 4,
 "nbformat_minor": 5
}
